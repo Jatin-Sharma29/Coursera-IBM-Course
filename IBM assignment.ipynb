{
  "metadata": {
    "kernelspec": {
      "name": "xpython",
      "display_name": "Python 3.13 (XPython)",
      "language": "python"
    },
    "language_info": {
      "file_extension": ".py",
      "mimetype": "text/x-python",
      "name": "python",
      "version": "3.13.1"
    }
  },
  "nbformat_minor": 5,
  "nbformat": 4,
  "cells": [
    {
      "id": "8fa7e703-1071-43b9-93ba-3b75a89dde24",
      "cell_type": "markdown",
      "source": "# Data Science Tools And Ecosystem",
      "metadata": {}
    },
    {
      "id": "d8c3afd6-27d4-4797-9eb2-3b8e3ac55b84",
      "cell_type": "markdown",
      "source": "## Introduction",
      "metadata": {}
    },
    {
      "id": "79cb9baa-62bf-429c-b02f-c92f33eafe82",
      "cell_type": "markdown",
      "source": "In this notebook we summarize some of the key tools and concept used by Data Scientist",
      "metadata": {}
    },
    {
      "id": "957d8876-2277-4758-8dd2-50254308d2aa",
      "cell_type": "markdown",
      "source": "## Data Science Language",
      "metadata": {}
    },
    {
      "id": "951c06b8-e23d-46bf-9bd0-6a12fe28819e",
      "cell_type": "markdown",
      "source": "Some of the popular languages that Data Scientist use are:\n1. Python \n2. R \n3. SQL \n4. Julia",
      "metadata": {}
    },
    {
      "id": "68186211-d065-4c5f-a1ae-35e29cad8dd4",
      "cell_type": "markdown",
      "source": "## Data Science Libraries",
      "metadata": {}
    },
    {
      "id": "56d9c7b0-ce32-4d0e-a453-e211e6b1833b",
      "cell_type": "markdown",
      "source": "Some of the commonly used libraries used by the Data Scientists includes:\n1. Pandas\n2. Numpy\n3. Matplotlib\n4. Scikit-learn\n5. TensorFlow",
      "metadata": {}
    },
    {
      "id": "6268df3d-0837-4b41-a674-5fdbd22b7e0d",
      "cell_type": "markdown",
      "source": "## Data Science Tools\n| Tool          | Category            |\n|---------------|---------------------|\n| Jupyter Notebook | Interactive Development |\n| RStudio       | Statistical Computing |\n| Apache Spark  | Big Data Processing |\n| TensorFlow    | Deep Learning |\n| GitHub        | Version Control |",
      "metadata": {}
    },
    {
      "id": "10fb47bd-2e2a-4224-9ffe-067ca235af93",
      "cell_type": "markdown",
      "source": "# Arithmetic Expression Example\nBelow are some example of evaluating arithmetic expression in python",
      "metadata": {}
    },
    {
      "id": "fd239335-3167-43b8-843c-c91c52b3e3cc",
      "cell_type": "code",
      "source": "# This is a simple arithmetic to multiply then add integers\n(3*4)+5",
      "metadata": {
        "trusted": true
      },
      "outputs": [
        {
          "execution_count": 2,
          "output_type": "execute_result",
          "data": {
            "text/plain": "17"
          },
          "metadata": {}
        }
      ],
      "execution_count": 2
    },
    {
      "id": "59e04c09-9791-459c-aad9-cb11a3143192",
      "cell_type": "code",
      "source": "# This will convert 200 minutes to hours by dividing by 60\nminutes = 200\nhours = minutes/60\nhours",
      "metadata": {
        "trusted": true
      },
      "outputs": [
        {
          "execution_count": 3,
          "output_type": "execute_result",
          "data": {
            "text/plain": "3.3333333333333335"
          },
          "metadata": {}
        }
      ],
      "execution_count": 3
    },
    {
      "id": "a66500b9-a76e-437e-9c48-60aa1fca47cf",
      "cell_type": "markdown",
      "source": "## Objectives\nIn this notebook we will:\n- List popular languages for Data Science\n- List commonly used libraries in Data Science\n- Create a table of Data Science tools\n- Perform basic arithmetic operations\n- Convert minutes to hours using Python code",
      "metadata": {}
    },
    {
      "id": "95a8f1e5-1691-423d-ae75-37299b45647d",
      "cell_type": "markdown",
      "source": "## Author\n**Jatin Sharma**",
      "metadata": {}
    },
    {
      "id": "716952b2-e1e5-4bc6-aadd-cfd2f2edddf9",
      "cell_type": "code",
      "source": "",
      "metadata": {
        "trusted": true
      },
      "outputs": [],
      "execution_count": null
    }
  ]
}